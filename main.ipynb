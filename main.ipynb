{
 "cells": [
  {
   "cell_type": "code",
   "execution_count": null,
   "metadata": {},
   "outputs": [],
   "source": [
    "from IPython.display import display, Image\n",
    "import ipywidgets as widgets\n",
    "from utils import get_avatars\n",
    "\n",
    "import warnings\n",
    "warnings.simplefilter(\"ignore\", category=DeprecationWarning)\n",
    "\n",
    "p = r'C:\\Users\\cripp\\OneDrive\\Desktop\\WIZ016-GA01_Righello\\pngtree-isolated-cat-on-white-background-png-image_7094927.png'\n",
    "\n",
    "class Ruler:\n",
    "    def __init__(self):\n",
    "        self.input_text = widgets.Text(\n",
    "            value='',\n",
    "            placeholder='Scrivi qui...',\n",
    "            description='',\n",
    "            disabled=False\n",
    "        )\n",
    "\n",
    "        self.output_box = widgets.Output()\n",
    "        self.input_text.on_submit(self.on_submit)\n",
    "        self.status = -1\n",
    "\n",
    "        self.avatars = get_avatars()\n",
    "        \n",
    "        with self.output_box:\n",
    "            print('Qual è il tuo nome?')\n",
    "            self.input_text.value = ''\n",
    "\n",
    "    def on_submit(self, text):\n",
    "        with self.output_box:\n",
    "            self.output_box.clear_output()\n",
    "            user_input = self.input_text.value\n",
    "\n",
    "            # Verifica iniziale\n",
    "            if self.status == -1:\n",
    "                self.player = user_input\n",
    "                if user_input not in self.avatars:\n",
    "                    print('Non ti è permesso accedere.')\n",
    "                else:\n",
    "                    print('Benvenuto!')\n",
    "                    print('Ti avevo detto che avrei usato un modo alternativo :)')\n",
    "                    print('Per cominciare scrivi il nome di un altro Avatar.')\n",
    "                    self.status += 1\n",
    "                    \n",
    "            # Inizio del gioco\n",
    "            elif self.status == 0:\n",
    "                if user_input not in self.avatars:\n",
    "                    print('Riprova.')\n",
    "                elif user_input in self.avatars and user_input == self.player:\n",
    "                    print('Non puoi usare ancora il tuo nome.')\n",
    "                else:\n",
    "                    self.status += 1\n",
    "\n",
    "            # Livello 1\n",
    "            elif self.status == 1:\n",
    "                print('Cominciamo.')\n",
    "                # self.image_widget = widgets.Image(\n",
    "                #     value=open(p, 'rb').read(),  # Sostituisci con il percorso dell'immagine\n",
    "                #     format='png',\n",
    "                #     width=300,\n",
    "                #     height=300\n",
    "                # )\n",
    "                # display(self.image_widget)\n",
    "\n",
    "            else:\n",
    "                raise ValueError('Errore nel cambio di stato.')\n",
    "\n",
    "            self.input_text.value = ''\n",
    "    \n",
    "    def play(self):\n",
    "        display(self.output_box, self.input_text)"
   ]
  },
  {
   "cell_type": "code",
   "execution_count": 2,
   "metadata": {},
   "outputs": [
    {
     "data": {
      "application/vnd.jupyter.widget-view+json": {
       "model_id": "456127e968974c70bca0407831f18f48",
       "version_major": 2,
       "version_minor": 0
      },
      "text/plain": [
       "Output()"
      ]
     },
     "metadata": {},
     "output_type": "display_data"
    },
    {
     "data": {
      "application/vnd.jupyter.widget-view+json": {
       "model_id": "b68e4daec70e4414842ee6411b379e89",
       "version_major": 2,
       "version_minor": 0
      },
      "text/plain": [
       "Text(value='', placeholder='Scrivi qui...')"
      ]
     },
     "metadata": {},
     "output_type": "display_data"
    }
   ],
   "source": [
    "# from ruler import Ruler\n",
    "game = Ruler()\n",
    "game.play()"
   ]
  }
 ],
 "metadata": {
  "kernelspec": {
   "display_name": ".venv",
   "language": "python",
   "name": "python3"
  },
  "language_info": {
   "codemirror_mode": {
    "name": "ipython",
    "version": 3
   },
   "file_extension": ".py",
   "mimetype": "text/x-python",
   "name": "python",
   "nbconvert_exporter": "python",
   "pygments_lexer": "ipython3",
   "version": "3.11.9"
  }
 },
 "nbformat": 4,
 "nbformat_minor": 2
}
